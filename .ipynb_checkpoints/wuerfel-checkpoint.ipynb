{
 "cells": [
  {
   "cell_type": "code",
   "execution_count": 15,
   "metadata": {},
   "outputs": [],
   "source": [
    "# nbi:hide_in\n",
    "import matplotlib.pyplot as plt\n",
    "import numpy as np\n",
    "import ipywidgets as widgets\n",
    "from ipywidgets import interact, interactive, fixed, interact_manual\n",
    "\n",
    "%matplotlib inline"
   ]
  },
  {
   "cell_type": "code",
   "execution_count": 17,
   "metadata": {},
   "outputs": [],
   "source": [
    "# nbi:hide_in\n",
    "\n",
    "\n",
    "from numpy.random import default_rng\n",
    "\n",
    "\n",
    "def random_dice(seed,size):\n",
    "    rng = default_rng(seed)\n",
    "    rolls = rng.choice([1,2,3,4,5,6], size=size);\n",
    "    averages = np.cumsum(rolls) / np.arange(1,size+1);\n",
    "    return [rolls,averages]\n",
    "\n",
    "[rolls,averages]= random_dice(1234,1000)\n",
    "\n",
    "def plotting_dice(num_rolls):\n",
    "    fig, ax = plt.subplots(figsize=(12, 6))\n",
    "    plt.rcParams.update({'font.size': 20})\n",
    "    plt.ylim([0, 7])\n",
    "    \n",
    "    \n",
    "    plt.xlim([1,100])\n",
    "    if num_rolls>100:\n",
    "        plt.xlim([1,num_rolls])\n",
    "    ax.text(1.5, 3.55,\"$\\mu = 3.5$\")\n",
    "\n",
    "    plt.ylabel(\"Mittelwert der Augenzahl\")\n",
    "    plt.plot(np.arange(1,1000+1)[:num_rolls],averages[:num_rolls],'-',linewidth=3)\n",
    "    plt.plot(np.arange(1,1000+1)[:num_rolls],averages[:num_rolls],'x',linewidth=5)\n",
    "    plt.plot([0, 1000], [7/2, 7/2], 'r', linewidth=2)\n",
    "    plt.xlabel(\"Anzahl der Würfe\")\n",
    "    "
   ]
  },
  {
   "cell_type": "markdown",
   "metadata": {},
   "source": [
    "Bitte die Anzahl der Wuerfe eines Wuerfels einstellen:"
   ]
  },
  {
   "cell_type": "code",
   "execution_count": 18,
   "metadata": {},
   "outputs": [
    {
     "data": {
      "application/vnd.jupyter.widget-view+json": {
       "model_id": "7e87dcb37f254e9fbf28bd67df2cd3fc",
       "version_major": 2,
       "version_minor": 0
      },
      "text/plain": [
       "interactive(children=(IntSlider(value=2, description='#Würfe', max=1000, min=2), Output()), _dom_classes=('wid…"
      ]
     },
     "metadata": {},
     "output_type": "display_data"
    }
   ],
   "source": [
    "\n",
    "widgets.interact(plotting_dice,num_rolls=widgets.IntSlider(description=\"#Würfe\", min=2,max=1000,value=2));"
   ]
  }
 ],
 "metadata": {
  "kernelspec": {
   "display_name": "Python 3",
   "language": "python",
   "name": "python3"
  },
  "language_info": {
   "codemirror_mode": {
    "name": "ipython",
    "version": 3
   },
   "file_extension": ".py",
   "mimetype": "text/x-python",
   "name": "python",
   "nbconvert_exporter": "python",
   "pygments_lexer": "ipython3",
   "version": "3.7.6"
  }
 },
 "nbformat": 4,
 "nbformat_minor": 2
}
