{
 "cells": [
  {
   "cell_type": "code",
   "execution_count": 2,
   "metadata": {},
   "outputs": [],
   "source": [
    "# nbi:hide_in\n",
    "import matplotlib.pyplot as plt\n",
    "import numpy as np\n",
    "import ipywidgets as widgets\n",
    "\n",
    "%matplotlib inline"
   ]
  },
  {
   "cell_type": "code",
   "execution_count": 214,
   "metadata": {},
   "outputs": [],
   "source": [
    "# nbi:hide_in\n",
    "\n",
    "from numpy.random import default_rng\n",
    "\n",
    "\n",
    "def random_dice(seed,size):\n",
    "    rng = default_rng(seed)\n",
    "    rolls = rng.choice([1,2,3,4,5,6], size=size);\n",
    "    averages = np.cumsum(rolls) / np.arange(1,size+1);\n",
    "    return [rolls,averages]\n",
    "\n",
    "[rolls,averages]= random_dice(1234,1000)\n",
    "\n",
    "def plotting_dice(num_rolls):\n",
    "    fig, ax = plt.subplots(figsize=(12, 6))\n",
    "    plt.rcParams.update({'font.size': 20})\n",
    "    plt.ylim([0, 7])\n",
    "    \n",
    "    \n",
    "    plt.xlim([1,100])\n",
    "    if num_rolls>100:\n",
    "        plt.xlim([1,num_rolls])\n",
    "    ax.text(1.5, 3.55,\"$\\mu$\")\n",
    "\n",
    "    plt.ylabel(\"Mittelwert der Augenzahl\")\n",
    "    plt.plot(np.arange(1,1000+1)[:num_rolls],averages[:num_rolls],'-',linewidth=3)\n",
    "    plt.plot(np.arange(1,1000+1)[:num_rolls],averages[:num_rolls],'x',linewidth=5)\n",
    "    plt.plot([0, 1000], [7/2, 7/2], 'r', linewidth=2)\n",
    "    plt.xlabel(\"Anzahl der Würfe\")\n",
    "    "
   ]
  },
  {
   "cell_type": "code",
   "execution_count": 215,
   "metadata": {},
   "outputs": [
    {
     "data": {
      "application/vnd.jupyter.widget-view+json": {
       "model_id": "6de4080a804c4f87b203733ca3172012",
       "version_major": 2,
       "version_minor": 0
      },
      "text/plain": [
       "interactive(children=(IntSlider(value=2, description='#Würfe', max=1000, min=2), Output()), _dom_classes=('wid…"
      ]
     },
     "metadata": {},
     "output_type": "display_data"
    }
   ],
   "source": [
    "# nbi:hide_in\n",
    "widgets.interact(plotting_dice,num_rolls=IntSlider(description=\"#Würfe\", min=2,max=1000,value=2));"
   ]
  },
  {
   "cell_type": "code",
   "execution_count": 211,
   "metadata": {},
   "outputs": [
    {
     "data": {
      "application/vnd.jupyter.widget-view+json": {
       "model_id": "c1d89939164e4d55b5523851d8ba4c18",
       "version_major": 2,
       "version_minor": 0
      },
      "text/plain": [
       "interactive(children=(IntSlider(value=1, description='#Würfe', min=1), Output()), _dom_classes=('widget-intera…"
      ]
     },
     "metadata": {},
     "output_type": "display_data"
    }
   ],
   "source": [
    "import ipywidgets as widgets\n",
    "from ipywidgets import interact, interact_manual, IntSlider\n",
    "\n",
    "def f(x):\n",
    "    return x;\n",
    "\n",
    "interact(f, x=IntSlider(description=\"#Würfe\", min=1,max=100,value=1));"
   ]
  },
  {
   "cell_type": "code",
   "execution_count": 59,
   "metadata": {},
   "outputs": [],
   "source": [
    "from numpy.random import Generator, MT19937, SeedSequence\n",
    "sg = SeedSequence(1234)\n",
    "rg = [Generator(MT19937(s)) for s in sg.spawn(10)]"
   ]
  },
  {
   "cell_type": "code",
   "execution_count": 60,
   "metadata": {},
   "outputs": [
    {
     "data": {
      "text/plain": [
       "array([1, 5, 1, 4, 5, 1, 6, 5, 6, 6])"
      ]
     },
     "execution_count": 60,
     "metadata": {},
     "output_type": "execute_result"
    }
   ],
   "source": [
    "np.random.choice([1,2,3,4,5,6],size=10)"
   ]
  },
  {
   "cell_type": "code",
   "execution_count": 61,
   "metadata": {},
   "outputs": [],
   "source": [
    "from numpy.random import default_rng\n",
    "rng = default_rng()\n",
    "vals = rng.standard_normal(10)\n",
    "more_vals = rng.standard_normal(10)"
   ]
  },
  {
   "cell_type": "code",
   "execution_count": 62,
   "metadata": {},
   "outputs": [
    {
     "data": {
      "text/plain": [
       "array([-1.01457545, -0.28714973, -0.7159295 ,  1.48406525,  2.05467343,\n",
       "       -0.7399317 , -1.43701208,  0.25141865,  0.41288655,  0.49436998])"
      ]
     },
     "execution_count": 62,
     "metadata": {},
     "output_type": "execute_result"
    }
   ],
   "source": [
    "vals"
   ]
  },
  {
   "cell_type": "code",
   "execution_count": 110,
   "metadata": {},
   "outputs": [
    {
     "data": {
      "text/plain": [
       "array([5, 2, 5, 2, 2, 5, 4, 5, 6, 3])"
      ]
     },
     "execution_count": 110,
     "metadata": {},
     "output_type": "execute_result"
    }
   ],
   "source": []
  },
  {
   "cell_type": "code",
   "execution_count": 92,
   "metadata": {},
   "outputs": [
    {
     "name": "stdout",
     "output_type": "stream",
     "text": [
      "Generator(PCG64)\n"
     ]
    }
   ],
   "source": [
    "print(rng)\n"
   ]
  },
  {
   "cell_type": "code",
   "execution_count": 93,
   "metadata": {},
   "outputs": [
    {
     "name": "stdout",
     "output_type": "stream",
     "text": [
      "0.22733602246716966\n"
     ]
    }
   ],
   "source": [
    "print(rng.random())"
   ]
  },
  {
   "cell_type": "code",
   "execution_count": 94,
   "metadata": {},
   "outputs": [
    {
     "name": "stdout",
     "output_type": "stream",
     "text": [
      "0.31675833970975287\n"
     ]
    }
   ],
   "source": [
    "print(rng.random())"
   ]
  },
  {
   "cell_type": "code",
   "execution_count": 95,
   "metadata": {},
   "outputs": [
    {
     "ename": "AttributeError",
     "evalue": "'builtin_function_or_method' object has no attribute 'choice'",
     "output_type": "error",
     "traceback": [
      "\u001b[0;31m---------------------------------------------------------------------------\u001b[0m",
      "\u001b[0;31mAttributeError\u001b[0m                            Traceback (most recent call last)",
      "\u001b[0;32m<ipython-input-95-ca8ea4c68653>\u001b[0m in \u001b[0;36m<module>\u001b[0;34m\u001b[0m\n\u001b[0;32m----> 1\u001b[0;31m \u001b[0mrng\u001b[0m\u001b[0;34m.\u001b[0m\u001b[0mrandom\u001b[0m\u001b[0;34m.\u001b[0m\u001b[0mchoice\u001b[0m\u001b[0;34m(\u001b[0m\u001b[0;34m[\u001b[0m\u001b[0;36m1\u001b[0m\u001b[0;34m,\u001b[0m\u001b[0;36m2\u001b[0m\u001b[0;34m,\u001b[0m\u001b[0;36m3\u001b[0m\u001b[0;34m,\u001b[0m\u001b[0;36m4\u001b[0m\u001b[0;34m,\u001b[0m\u001b[0;36m5\u001b[0m\u001b[0;34m,\u001b[0m\u001b[0;36m6\u001b[0m\u001b[0;34m]\u001b[0m\u001b[0;34m)\u001b[0m\u001b[0;34m\u001b[0m\u001b[0;34m\u001b[0m\u001b[0m\n\u001b[0m",
      "\u001b[0;31mAttributeError\u001b[0m: 'builtin_function_or_method' object has no attribute 'choice'"
     ]
    }
   ],
   "source": [
    "rng.random.choice([1,2,3,4,5,6])"
   ]
  },
  {
   "cell_type": "code",
   "execution_count": 107,
   "metadata": {},
   "outputs": [
    {
     "data": {
      "text/plain": [
       "array([2, 5, 1, 3, 1, 5, 3, 3, 3, 3])"
      ]
     },
     "execution_count": 107,
     "metadata": {},
     "output_type": "execute_result"
    }
   ],
   "source": []
  },
  {
   "cell_type": "code",
   "execution_count": null,
   "metadata": {},
   "outputs": [],
   "source": []
  }
 ],
 "metadata": {
  "kernelspec": {
   "display_name": "Python 3",
   "language": "python",
   "name": "python3"
  },
  "language_info": {
   "codemirror_mode": {
    "name": "ipython",
    "version": 3
   },
   "file_extension": ".py",
   "mimetype": "text/x-python",
   "name": "python",
   "nbconvert_exporter": "python",
   "pygments_lexer": "ipython3",
   "version": "3.7.6"
  }
 },
 "nbformat": 4,
 "nbformat_minor": 2
}
